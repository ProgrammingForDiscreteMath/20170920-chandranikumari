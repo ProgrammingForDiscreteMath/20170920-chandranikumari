{
 "cells": [
  {
   "cell_type": "code",
   "execution_count": 1,
   "metadata": {
    "collapsed": false,
    "deletable": true,
    "editable": true
   },
   "outputs": [],
   "source": [
    "fh=file(\"facebook_combined.txt\",'r')\n",
    "e = fh.next()\n",
    "G = Graph([eval(e.replace(\" \",\",\"))for e in fh])"
   ]
  },
  {
   "cell_type": "code",
   "execution_count": null,
   "metadata": {
    "collapsed": true,
    "deletable": true,
    "editable": true
   },
   "outputs": [],
   "source": [
    "G.show()"
   ]
  },
  {
   "cell_type": "code",
   "execution_count": 2,
   "metadata": {
    "collapsed": false,
    "deletable": true,
    "editable": true
   },
   "outputs": [],
   "source": [
    "def average_distance_from_sample(G, n):\n",
    "    \"\"\"\n",
    "    Return the average distance between ``n`` randomly selected\n",
    "    pairs of points from the graph ``G``.\n",
    "\n",
    "    INPUT:\n",
    "\n",
    "    ``G`` - Sage graph.\n",
    "    ``n`` - positive integer (sample size)\n",
    "\n",
    "    OUTPUT:\n",
    "\n",
    "    floating point real number.\n",
    "    \"\"\"\n",
    "    distance=0\n",
    "    v=G.vertices()\n",
    "    v1=sample(v,n)\n",
    "    v2=sample(v,n)\n",
    "    if (G.is_connected() is true):\n",
    "        for i in range(n):\n",
    "            distance=distance+(G.shortest_path_length(v1[i],v2[i]))\n",
    "    else:\n",
    "        return \"Graph is not connected!!!\"\n",
    "    \n",
    "    average=float(distance/n)\n",
    "    return average"
   ]
  },
  {
   "cell_type": "code",
   "execution_count": 3,
   "metadata": {
    "collapsed": false,
    "deletable": true,
    "editable": true
   },
   "outputs": [
    {
     "data": {
      "text/plain": [
       "5.0"
      ]
     },
     "execution_count": 3,
     "metadata": {},
     "output_type": "execute_result"
    }
   ],
   "source": [
    "average_distance_from_sample(G,5)"
   ]
  },
  {
   "cell_type": "code",
   "execution_count": null,
   "metadata": {
    "collapsed": true,
    "deletable": true,
    "editable": true
   },
   "outputs": [],
   "source": []
  }
 ],
 "metadata": {
  "kernelspec": {
   "display_name": "SageMath 8.0",
   "language": "",
   "name": "sagemath"
  },
  "language_info": {
   "codemirror_mode": {
    "name": "ipython",
    "version": 2
   },
   "file_extension": ".py",
   "mimetype": "text/x-python",
   "name": "python",
   "nbconvert_exporter": "python",
   "pygments_lexer": "ipython2",
   "version": "2.7.13"
  }
 },
 "nbformat": 4,
 "nbformat_minor": 2
}
